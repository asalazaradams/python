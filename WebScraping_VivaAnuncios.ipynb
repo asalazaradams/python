{
  "cells": [
    {
      "cell_type": "markdown",
      "metadata": {
        "id": "view-in-github",
        "colab_type": "text"
      },
      "source": [
        "<a href=\"https://colab.research.google.com/github/asalazaradams/python/blob/main/WebScraping_VivaAnuncios.ipynb\" target=\"_parent\"><img src=\"https://colab.research.google.com/assets/colab-badge.svg\" alt=\"Open In Colab\"/></a>"
      ]
    },
    {
      "cell_type": "markdown",
      "metadata": {
        "id": "VEYZeDbmE5W6"
      },
      "source": [
        "VIVA ANUNCIOS"
      ]
    },
    {
      "cell_type": "code",
      "execution_count": null,
      "metadata": {
        "id": "cI_U5eOVnwZk"
      },
      "outputs": [],
      "source": [
        "import requests\n",
        "from bs4 import BeautifulSoup\n",
        "import pandas as pd"
      ]
    },
    {
      "cell_type": "code",
      "execution_count": null,
      "metadata": {
        "colab": {
          "base_uri": "https://localhost:8080/"
        },
        "id": "65CukJI_E2ws",
        "outputId": "c0e96372-91cd-4bac-b468-438b7d1ee975"
      },
      "outputs": [
        {
          "output_type": "stream",
          "name": "stdout",
          "text": [
            "2\n",
            "3\n",
            "4\n",
            "5\n",
            "6\n",
            "7\n",
            "8\n",
            "9\n",
            "10\n",
            "11\n",
            "12\n",
            "13\n",
            "14\n",
            "15\n",
            "16\n",
            "17\n",
            "18\n",
            "19\n",
            "20\n",
            "21\n",
            "22\n",
            "23\n",
            "24\n",
            "25\n",
            "26\n",
            "27\n",
            "28\n",
            "29\n",
            "30\n",
            "31\n",
            "32\n",
            "33\n",
            "34\n",
            "35\n",
            "36\n",
            "37\n",
            "38\n",
            "39\n",
            "40\n",
            "41\n",
            "42\n",
            "43\n",
            "44\n",
            "45\n",
            "46\n",
            "47\n",
            "48\n",
            "49\n"
          ]
        }
      ],
      "source": [
        "price=list()\n",
        "bath=list()\n",
        "bed=list()\n",
        "loc=list()\n",
        "area=list()\n",
        "exp=list()\n",
        "page_n = 2\n",
        "titles = []\n",
        "while page_n != 50:\n",
        "      url = f\"https://www.vivanuncios.com.mx/s-venta-inmuebles/hermosillo/page-{page_n}/v1c1097l11912p{page_n}\"\n",
        "      print(page_n)\n",
        "      page_n = page_n + 1\n",
        "      page = requests.get(url)\n",
        "      soup = BeautifulSoup(page.content, \"html.parser\")\n",
        "      results = soup.find(id=\"tileRedesign\")\n",
        "      post_elements = results.find_all(\"div\", class_=\"tileV2 REAdTileV2 regular listView\")\n",
        "      from pandas.io.formats.format import NA\n",
        "      for post_element in post_elements:\n",
        "          price_element = post_element.find(\"span\", class_=\"ad-price\")\n",
        "          bed_element = post_element.find(\"div\", class_=\"chiplets-inline-block re-bedroom\")\n",
        "          bath_element = post_element.find(\"div\", class_=\"chiplets-inline-block re-bathroom\")\n",
        "          loc_element = post_element.find(\"b\")\n",
        "          area_element=post_element.find(\"div\", class_=\"chiplets-inline-block surface-area\")\n",
        "          exp_element= post_element.find(\"div\", class_=\"expanded-description\")\n",
        "         \n",
        "          if price_element is not None:\n",
        "              p_e= price_element.get_text()\n",
        "              p_e=p_e.replace(\"\\n\",\"\")\n",
        "              p_e=p_e.replace(\"$\",\"\")\n",
        "              p_e=p_e.replace(\",\",\"\")\n",
        "              p_e=p_e.replace(\"USD\",\"\")\n",
        "              price.append(int(p_e))\n",
        "          else:  price.append('NaN')\n",
        "\n",
        "    \n",
        "          if bath_element is not None:\n",
        "              ba_e= bath_element.get_text()\n",
        "              ba_e=ba_e.replace(\"+\",\"\")\n",
        "              bath.append(int(ba_e))\n",
        "          else: bath.append('NaN')\n",
        "    \n",
        "          if bed_element is not None:\n",
        "              be_e= bed_element.get_text()\n",
        "              be_e=be_e.replace(\"+\",\"\")\n",
        "              bed.append(int(be_e))\n",
        "          else: bed.append('NaN')\n",
        "\n",
        "          if loc_element is not None:\n",
        "              loc.append(loc_element.get_text())\n",
        "          else: loc.append('NaN')\n",
        "\n",
        "          if area_element is not None:\n",
        "              a_e= area_element.get_text()\n",
        "              a_e=a_e.replace(\"m²\",\"\")\n",
        "              area.append(int(a_e))\n",
        "          else: area.append('NaN')\n",
        "\n",
        "          if exp_element is not None:\n",
        "              exp.append(exp_element.get_text())\n",
        "          else: \n",
        "              exp.append('NaN')"
      ]
    },
    {
      "cell_type": "code",
      "execution_count": null,
      "metadata": {
        "id": "hU-b8fEhELfW"
      },
      "outputs": [],
      "source": [
        "df=pd.DataFrame()"
      ]
    },
    {
      "cell_type": "code",
      "execution_count": null,
      "metadata": {
        "id": "bttivOneEtiU"
      },
      "outputs": [],
      "source": [
        "df['price']=price\n",
        "df['bed']=bed\n",
        "df['bath']=bath\n",
        "df['area']=area\n",
        "df['loc']=loc\n",
        "df['exp']=exp"
      ]
    },
    {
      "cell_type": "code",
      "execution_count": null,
      "metadata": {
        "colab": {
          "base_uri": "https://localhost:8080/",
          "height": 206
        },
        "id": "2FpJ9MSTFCWP",
        "outputId": "b27641e0-9b83-413a-e6f1-4c049ac5e3e2"
      },
      "outputs": [
        {
          "output_type": "execute_result",
          "data": {
            "text/plain": [
              "     price  bed bath area                     loc  \\\n",
              "0  6800000    3    3  333                  Centro   \n",
              "1  7096700    3    3  574                  Modelo   \n",
              "2  8995000    4    3  351  Residencial Los Santos   \n",
              "3  6050910    2    1    1                   Pitic   \n",
              "4  8000000    4    3  933                   Pitic   \n",
              "\n",
              "                                                 exp  \n",
              "0  AMPLIA CASA EN VENTA EN LA COLONIA PITIC CON 3...  \n",
              "1  LOTE 383\\r\\n??COUNTRY CLUB\\r\\n??574.16 m2 terr...  \n",
              "2  LOS SANTOS RESIDENCIAL\\r\\n\\r\\nHermosa propieda...  \n",
              "3  UNA ALTACOMUNIDAD A TU ALCANCE\\r\\n\\r\\nDescubre...  \n",
              "4  VENTA | PITIC \\r\\n\\r\\nCasa en esquina, ubicada...  "
            ],
            "text/html": [
              "\n",
              "  <div id=\"df-7a2ac640-d936-4e55-a424-1cb8a0852317\">\n",
              "    <div class=\"colab-df-container\">\n",
              "      <div>\n",
              "<style scoped>\n",
              "    .dataframe tbody tr th:only-of-type {\n",
              "        vertical-align: middle;\n",
              "    }\n",
              "\n",
              "    .dataframe tbody tr th {\n",
              "        vertical-align: top;\n",
              "    }\n",
              "\n",
              "    .dataframe thead th {\n",
              "        text-align: right;\n",
              "    }\n",
              "</style>\n",
              "<table border=\"1\" class=\"dataframe\">\n",
              "  <thead>\n",
              "    <tr style=\"text-align: right;\">\n",
              "      <th></th>\n",
              "      <th>price</th>\n",
              "      <th>bed</th>\n",
              "      <th>bath</th>\n",
              "      <th>area</th>\n",
              "      <th>loc</th>\n",
              "      <th>exp</th>\n",
              "    </tr>\n",
              "  </thead>\n",
              "  <tbody>\n",
              "    <tr>\n",
              "      <th>0</th>\n",
              "      <td>6800000</td>\n",
              "      <td>3</td>\n",
              "      <td>3</td>\n",
              "      <td>333</td>\n",
              "      <td>Centro</td>\n",
              "      <td>AMPLIA CASA EN VENTA EN LA COLONIA PITIC CON 3...</td>\n",
              "    </tr>\n",
              "    <tr>\n",
              "      <th>1</th>\n",
              "      <td>7096700</td>\n",
              "      <td>3</td>\n",
              "      <td>3</td>\n",
              "      <td>574</td>\n",
              "      <td>Modelo</td>\n",
              "      <td>LOTE 383\\r\\n??COUNTRY CLUB\\r\\n??574.16 m2 terr...</td>\n",
              "    </tr>\n",
              "    <tr>\n",
              "      <th>2</th>\n",
              "      <td>8995000</td>\n",
              "      <td>4</td>\n",
              "      <td>3</td>\n",
              "      <td>351</td>\n",
              "      <td>Residencial Los Santos</td>\n",
              "      <td>LOS SANTOS RESIDENCIAL\\r\\n\\r\\nHermosa propieda...</td>\n",
              "    </tr>\n",
              "    <tr>\n",
              "      <th>3</th>\n",
              "      <td>6050910</td>\n",
              "      <td>2</td>\n",
              "      <td>1</td>\n",
              "      <td>1</td>\n",
              "      <td>Pitic</td>\n",
              "      <td>UNA ALTACOMUNIDAD A TU ALCANCE\\r\\n\\r\\nDescubre...</td>\n",
              "    </tr>\n",
              "    <tr>\n",
              "      <th>4</th>\n",
              "      <td>8000000</td>\n",
              "      <td>4</td>\n",
              "      <td>3</td>\n",
              "      <td>933</td>\n",
              "      <td>Pitic</td>\n",
              "      <td>VENTA | PITIC \\r\\n\\r\\nCasa en esquina, ubicada...</td>\n",
              "    </tr>\n",
              "  </tbody>\n",
              "</table>\n",
              "</div>\n",
              "      <button class=\"colab-df-convert\" onclick=\"convertToInteractive('df-7a2ac640-d936-4e55-a424-1cb8a0852317')\"\n",
              "              title=\"Convert this dataframe to an interactive table.\"\n",
              "              style=\"display:none;\">\n",
              "        \n",
              "  <svg xmlns=\"http://www.w3.org/2000/svg\" height=\"24px\"viewBox=\"0 0 24 24\"\n",
              "       width=\"24px\">\n",
              "    <path d=\"M0 0h24v24H0V0z\" fill=\"none\"/>\n",
              "    <path d=\"M18.56 5.44l.94 2.06.94-2.06 2.06-.94-2.06-.94-.94-2.06-.94 2.06-2.06.94zm-11 1L8.5 8.5l.94-2.06 2.06-.94-2.06-.94L8.5 2.5l-.94 2.06-2.06.94zm10 10l.94 2.06.94-2.06 2.06-.94-2.06-.94-.94-2.06-.94 2.06-2.06.94z\"/><path d=\"M17.41 7.96l-1.37-1.37c-.4-.4-.92-.59-1.43-.59-.52 0-1.04.2-1.43.59L10.3 9.45l-7.72 7.72c-.78.78-.78 2.05 0 2.83L4 21.41c.39.39.9.59 1.41.59.51 0 1.02-.2 1.41-.59l7.78-7.78 2.81-2.81c.8-.78.8-2.07 0-2.86zM5.41 20L4 18.59l7.72-7.72 1.47 1.35L5.41 20z\"/>\n",
              "  </svg>\n",
              "      </button>\n",
              "      \n",
              "  <style>\n",
              "    .colab-df-container {\n",
              "      display:flex;\n",
              "      flex-wrap:wrap;\n",
              "      gap: 12px;\n",
              "    }\n",
              "\n",
              "    .colab-df-convert {\n",
              "      background-color: #E8F0FE;\n",
              "      border: none;\n",
              "      border-radius: 50%;\n",
              "      cursor: pointer;\n",
              "      display: none;\n",
              "      fill: #1967D2;\n",
              "      height: 32px;\n",
              "      padding: 0 0 0 0;\n",
              "      width: 32px;\n",
              "    }\n",
              "\n",
              "    .colab-df-convert:hover {\n",
              "      background-color: #E2EBFA;\n",
              "      box-shadow: 0px 1px 2px rgba(60, 64, 67, 0.3), 0px 1px 3px 1px rgba(60, 64, 67, 0.15);\n",
              "      fill: #174EA6;\n",
              "    }\n",
              "\n",
              "    [theme=dark] .colab-df-convert {\n",
              "      background-color: #3B4455;\n",
              "      fill: #D2E3FC;\n",
              "    }\n",
              "\n",
              "    [theme=dark] .colab-df-convert:hover {\n",
              "      background-color: #434B5C;\n",
              "      box-shadow: 0px 1px 3px 1px rgba(0, 0, 0, 0.15);\n",
              "      filter: drop-shadow(0px 1px 2px rgba(0, 0, 0, 0.3));\n",
              "      fill: #FFFFFF;\n",
              "    }\n",
              "  </style>\n",
              "\n",
              "      <script>\n",
              "        const buttonEl =\n",
              "          document.querySelector('#df-7a2ac640-d936-4e55-a424-1cb8a0852317 button.colab-df-convert');\n",
              "        buttonEl.style.display =\n",
              "          google.colab.kernel.accessAllowed ? 'block' : 'none';\n",
              "\n",
              "        async function convertToInteractive(key) {\n",
              "          const element = document.querySelector('#df-7a2ac640-d936-4e55-a424-1cb8a0852317');\n",
              "          const dataTable =\n",
              "            await google.colab.kernel.invokeFunction('convertToInteractive',\n",
              "                                                     [key], {});\n",
              "          if (!dataTable) return;\n",
              "\n",
              "          const docLinkHtml = 'Like what you see? Visit the ' +\n",
              "            '<a target=\"_blank\" href=https://colab.research.google.com/notebooks/data_table.ipynb>data table notebook</a>'\n",
              "            + ' to learn more about interactive tables.';\n",
              "          element.innerHTML = '';\n",
              "          dataTable['output_type'] = 'display_data';\n",
              "          await google.colab.output.renderOutput(dataTable, element);\n",
              "          const docLink = document.createElement('div');\n",
              "          docLink.innerHTML = docLinkHtml;\n",
              "          element.appendChild(docLink);\n",
              "        }\n",
              "      </script>\n",
              "    </div>\n",
              "  </div>\n",
              "  "
            ]
          },
          "metadata": {},
          "execution_count": 5
        }
      ],
      "source": [
        "df.head()"
      ]
    },
    {
      "cell_type": "code",
      "execution_count": null,
      "metadata": {
        "colab": {
          "base_uri": "https://localhost:8080/"
        },
        "id": "_LckhyRfoUPp",
        "outputId": "2f32a2fc-0adb-490b-a800-e4671b1ff7c0"
      },
      "outputs": [
        {
          "output_type": "execute_result",
          "data": {
            "text/plain": [
              "(984, 6)"
            ]
          },
          "metadata": {},
          "execution_count": 6
        }
      ],
      "source": [
        "df.shape"
      ]
    },
    {
      "cell_type": "code",
      "execution_count": null,
      "metadata": {
        "colab": {
          "base_uri": "https://localhost:8080/"
        },
        "id": "XyLLWbklgaoB",
        "outputId": "b1a29fa2-b608-4ffc-cc49-794e6b8fe6aa"
      },
      "outputs": [
        {
          "output_type": "execute_result",
          "data": {
            "text/plain": [
              "pandas.core.series.Series"
            ]
          },
          "metadata": {},
          "execution_count": 7
        }
      ],
      "source": [
        "type(df['price'])"
      ]
    },
    {
      "cell_type": "code",
      "execution_count": null,
      "metadata": {
        "id": "pDrb0IC2kspA"
      },
      "outputs": [],
      "source": [
        "df=df.dropna()"
      ]
    },
    {
      "cell_type": "code",
      "execution_count": null,
      "metadata": {
        "id": "rbvnT3E1kRLu"
      },
      "outputs": [],
      "source": [
        "df[\"price\"]=pd.to_numeric(df[\"price\"],errors='coerce')"
      ]
    },
    {
      "cell_type": "code",
      "execution_count": null,
      "metadata": {
        "id": "5F2kGKGqkln5"
      },
      "outputs": [],
      "source": [
        "df[\"area\"]=pd.to_numeric(df[\"area\"],errors='coerce')"
      ]
    },
    {
      "cell_type": "code",
      "execution_count": null,
      "metadata": {
        "id": "HYOvClRPlZoJ"
      },
      "outputs": [],
      "source": [
        "df[\"bed\"]=pd.to_numeric(df[\"bed\"],errors='coerce')"
      ]
    },
    {
      "cell_type": "code",
      "execution_count": null,
      "metadata": {
        "id": "pUG3IG-kle37"
      },
      "outputs": [],
      "source": [
        "df[\"bath\"]=pd.to_numeric(df[\"bath\"],errors='coerce')"
      ]
    },
    {
      "cell_type": "code",
      "source": [
        "import numpy as np"
      ],
      "metadata": {
        "id": "SBX8F5cxWDZm"
      },
      "execution_count": null,
      "outputs": []
    },
    {
      "cell_type": "code",
      "execution_count": null,
      "metadata": {
        "id": "zZ2uWFGrltcH"
      },
      "outputs": [],
      "source": [
        "df[\"logprice\"]=np.log(df[\"price\"])"
      ]
    },
    {
      "cell_type": "code",
      "execution_count": null,
      "metadata": {
        "id": "8M_6TKCJoFQy"
      },
      "outputs": [],
      "source": [
        "df[\"logarea\"]=np.log(df[\"area\"])"
      ]
    },
    {
      "cell_type": "code",
      "execution_count": null,
      "metadata": {
        "id": "LZnVjewt6y6E"
      },
      "outputs": [],
      "source": [
        "df.loc[df['exp'].str.contains('Remate|REMATE|remates bancarios|remate|remata|recuperación|jurídico|Gutza'), 'remate'] = 1\n",
        "df.loc[df['exp'].str.contains('alberca|Alberca'), 'alberca'] = 1\n",
        "df.loc[df['exp'].str.contains('Deparmentos|departamentos|departamento|Departamento'), 'depto'] = 1\n",
        "#datos.loc[datos['exp'].str.contains('Hot tub|Jetted tub|hot tub|Sauna|Pool|pool'), 'hottub_sauna_pool'] = 1\n",
        "#datos.loc[datos['exp'].str.contains('Gym|gym'), 'gym'] = 1\n",
        "#datos.loc[datos['exp'].str.contains('Pets|pet|Cat(s)|Dog(s)'), 'pets'] = 1\n",
        "\n"
      ]
    },
    {
      "cell_type": "code",
      "execution_count": null,
      "metadata": {
        "id": "qkhlG1v87emm"
      },
      "outputs": [],
      "source": [
        "df['remate']=df['remate'].fillna(0)\n",
        "df['alberca']=df['alberca'].fillna(0)\n",
        "df['depto']=df['depto'].fillna(0)"
      ]
    },
    {
      "cell_type": "code",
      "execution_count": null,
      "metadata": {
        "colab": {
          "base_uri": "https://localhost:8080/"
        },
        "id": "LZN0tMxU-lnA",
        "outputId": "e8f23927-ded7-4dfd-d1d1-669c6c0c0da1"
      },
      "outputs": [
        {
          "output_type": "execute_result",
          "data": {
            "text/plain": [
              "0.10975609756097561"
            ]
          },
          "metadata": {},
          "execution_count": 20
        }
      ],
      "source": [
        "df['remate'].mean()"
      ]
    },
    {
      "cell_type": "markdown",
      "metadata": {
        "id": "hKAx8UMvigQl"
      },
      "source": [
        "MODELO DE REGRESION"
      ]
    },
    {
      "cell_type": "code",
      "execution_count": null,
      "metadata": {
        "id": "V7tK6DC5jMHb"
      },
      "outputs": [],
      "source": [
        "# Imports necesarios\n",
        "import numpy as np\n",
        "import matplotlib.pyplot as plt\n",
        "import statsmodels.api as sm\n",
        "from statsmodels.formula.api import ols"
      ]
    },
    {
      "cell_type": "code",
      "execution_count": null,
      "metadata": {
        "id": "0mgAnivd86pg"
      },
      "outputs": [],
      "source": [
        "df = df[df['price'] > 300000] \n",
        "df = df[df['area'] > 40] \n",
        "df = df[df['area'] < 2000] "
      ]
    },
    {
      "cell_type": "code",
      "execution_count": null,
      "metadata": {
        "colab": {
          "base_uri": "https://localhost:8080/",
          "height": 1000
        },
        "id": "yhA1d2QLifri",
        "outputId": "d5d96362-c5e4-4974-8d92-04fae4b9ee99"
      },
      "outputs": [
        {
          "output_type": "stream",
          "name": "stdout",
          "text": [
            "                            OLS Regression Results                            \n",
            "==============================================================================\n",
            "Dep. Variable:               logprice   R-squared:                       0.867\n",
            "Model:                            OLS   Adj. R-squared:                  0.823\n",
            "Method:                 Least Squares   F-statistic:                     19.82\n",
            "Date:                Fri, 06 Jan 2023   Prob (F-statistic):          2.90e-149\n",
            "Time:                        18:29:49   Log-Likelihood:                -269.16\n",
            "No. Observations:                 681   AIC:                             876.3\n",
            "Df Residuals:                     512   BIC:                             1641.\n",
            "Df Model:                         168                                         \n",
            "Covariance Type:            nonrobust                                         \n",
            "===================================================================================================================\n",
            "                                                      coef    std err          t      P>|t|      [0.025      0.975]\n",
            "-------------------------------------------------------------------------------------------------------------------\n",
            "Intercept                                          10.4075      0.397     26.231      0.000       9.628      11.187\n",
            "loc[T.Adolfo Lopez Mateos]                         -0.3005      0.509     -0.590      0.555      -1.301       0.700\n",
            "loc[T.Akiwiki]                                     -0.3337      0.508     -0.657      0.512      -1.332       0.664\n",
            "loc[T.Alameda]                                      0.7178      0.416      1.727      0.085      -0.099       1.535\n",
            "loc[T.Almacen]                                      0.3274      0.417      0.784      0.433      -0.493       1.148\n",
            "loc[T.Alta California]                              1.1980      0.348      3.438      0.001       0.513       1.883\n",
            "loc[T.Altares]                                      0.0736      0.419      0.176      0.861      -0.749       0.897\n",
            "loc[T.Apolo]                                        0.5457      0.508      1.074      0.283      -0.452       1.543\n",
            "loc[T.Bachoco]                                      1.1876      0.380      3.128      0.002       0.442       1.933\n",
            "loc[T.Bahía de Kino]                                1.5793      0.382      4.137      0.000       0.829       2.329\n",
            "loc[T.Balderrama]                                   0.1718      0.421      0.409      0.683      -0.654       0.998\n",
            "loc[T.Banus]                                        1.0647      0.509      2.093      0.037       0.065       2.064\n",
            "loc[T.Bonita]                                       0.6021      0.510      1.180      0.239      -0.400       1.605\n",
            "loc[T.Bretaña]                                      1.1465      0.349      3.281      0.001       0.460       1.833\n",
            "loc[T.Bugambilia]                                   0.5423      0.334      1.621      0.106      -0.115       1.199\n",
            "loc[T.Burro Lindo]                                 -0.4409      0.510     -0.865      0.387      -1.442       0.560\n",
            "loc[T.California Residencial]                       0.2026      0.350      0.578      0.563      -0.485       0.890\n",
            "loc[T.Campanario]                                   0.8879      0.380      2.336      0.020       0.141       1.635\n",
            "loc[T.Campestre Real del Alamito]                  -0.2364      0.517     -0.457      0.648      -1.252       0.779\n",
            "loc[T.Casa Bonita Residencial]                      0.1454      0.418      0.348      0.728      -0.676       0.967\n",
            "loc[T.Casa Grande]                                  0.9127      0.334      2.730      0.007       0.256       1.570\n",
            "loc[T.Catalinas]                                    0.3410      0.380      0.897      0.370      -0.406       1.088\n",
            "loc[T.Centro]                                       0.4608      0.317      1.453      0.147      -0.162       1.084\n",
            "loc[T.Cerrada del Angel]                           -0.3800      0.509     -0.746      0.456      -1.381       0.621\n",
            "loc[T.Col Diamante]                                 0.6214      0.510      1.219      0.223      -0.380       1.623\n",
            "loc[T.Colinas del Sol]                              0.6173      0.424      1.456      0.146      -0.216       1.450\n",
            "loc[T.Colisio]                                     -0.4044      0.420     -0.963      0.336      -1.229       0.421\n",
            "loc[T.Costa del Sol]                                0.1722      0.515      0.334      0.738      -0.839       1.184\n",
            "loc[T.Country Club]                                 0.5745      0.416      1.380      0.168      -0.243       1.392\n",
            "loc[T.Cumbres Residencial]                          1.0654      0.335      3.184      0.002       0.408       1.723\n",
            "loc[T.Dunas]                                        0.0664      0.516      0.129      0.898      -0.947       1.080\n",
            "loc[T.El Apache]                                   -0.0157      0.509     -0.031      0.975      -1.015       0.984\n",
            "loc[T.El Centenario]                                0.6110      0.348      1.755      0.080      -0.073       1.295\n",
            "loc[T.El Dorado]                                    0.9169      0.417      2.200      0.028       0.098       1.736\n",
            "loc[T.El Esplendor Secc III]                        0.5117      0.417      1.228      0.220      -0.307       1.331\n",
            "loc[T.El Llanito]                                   0.1256      0.417      0.301      0.763      -0.693       0.944\n",
            "loc[T.El Mariachi]                                 -0.5667      0.508     -1.116      0.265      -1.564       0.431\n",
            "loc[T.El Mirasoles]                                 0.0845      0.509      0.166      0.868      -0.915       1.084\n",
            "loc[T.El Torreon]                                   0.4910      0.510      0.964      0.336      -0.510       1.492\n",
            "loc[T.Eusebio Kino]                                 0.2553      0.417      0.612      0.541      -0.565       1.075\n",
            "loc[T.Fovissste]                                    1.2278      0.510      2.410      0.016       0.227       2.229\n",
            "loc[T.Fraccionamiento Mision San Jeronimo]          0.4113      0.335      1.228      0.220      -0.247       1.069\n",
            "loc[T.Fraccionamiento Puerta del Rey]              -0.1049      0.418     -0.251      0.802      -0.925       0.716\n",
            "loc[T.Fraccionamiento Tierra Nueva]                -0.0391      0.514     -0.076      0.939      -1.049       0.971\n",
            "loc[T.Fuentes del Mezquital]                        0.2310      0.383      0.603      0.547      -0.521       0.983\n",
            "loc[T.Hab Jardines]                                -0.7221      0.418     -1.727      0.085      -1.543       0.099\n",
            "loc[T.Haciendas Real del Catorce]                  -1.2536      0.518     -2.421      0.016      -2.271      -0.236\n",
            "loc[T.Hermosillo]                                   0.4294      0.301      1.426      0.155      -0.162       1.021\n",
            "loc[T.Irrigacion]                                   0.7098      0.508      1.397      0.163      -0.288       1.708\n",
            "loc[T.Isssteson Nte.]                               0.1799      0.508      0.354      0.724      -0.819       1.179\n",
            "loc[T.Jacinto Lopez]                                0.2278      0.508      0.448      0.654      -0.771       1.227\n",
            "loc[T.Jardines de Monaco]                           0.7736      0.424      1.824      0.069      -0.060       1.607\n",
            "loc[T.Jesus Garcia]                                 0.0353      0.417      0.085      0.932      -0.784       0.855\n",
            "loc[T.Kino Bay Estates]                             1.0459      0.415      2.517      0.012       0.230       1.862\n",
            "loc[T.La Campiña]                                  -0.4178      0.511     -0.818      0.414      -1.422       0.586\n",
            "loc[T.La Encantada]                                 1.0006      0.322      3.108      0.002       0.368       1.633\n",
            "loc[T.La Joya Ietapa Secc Villa de los Zafiros]     1.4975      0.342      4.373      0.000       0.825       2.170\n",
            "loc[T.La Manga]                                     0.8215      0.304      2.704      0.007       0.225       1.418\n",
            "loc[T.La Paloma]                                    1.0349      0.312      3.313      0.001       0.421       1.649\n",
            "loc[T.La Paloma III]                                1.0213      0.381      2.683      0.008       0.274       1.769\n",
            "loc[T.La Ventana]                                   0.9860      0.515      1.916      0.056      -0.025       1.997\n",
            "loc[T.La Victoria Almacenes]                        0.6861      0.509      1.348      0.178      -0.314       1.686\n",
            "loc[T.Las Colinas]                                  0.7906      0.417      1.898      0.058      -0.028       1.609\n",
            "loc[T.Las Lomas]                                    0.4617      0.343      1.345      0.179      -0.213       1.136\n",
            "loc[T.Las Palmas]                                   0.4726      0.420      1.125      0.261      -0.353       1.298\n",
            "loc[T.Las Provincias]                               0.6094      0.362      1.683      0.093      -0.102       1.321\n",
            "loc[T.Las Quintas]                                  0.2873      0.380      0.757      0.450      -0.459       1.033\n",
            "loc[T.Las Villas]                                   0.6019      0.510      1.181      0.238      -0.399       1.603\n",
            "loc[T.Laura Frias de Lopez Nogales]                -0.8050      0.509     -1.581      0.115      -1.806       0.195\n",
            "loc[T.Ley 57]                                       0.2362      0.360      0.656      0.512      -0.471       0.943\n",
            "loc[T.Loma Linda]                                   0.7671      0.415      1.848      0.065      -0.049       1.583\n",
            "loc[T.Lomas Altas]                                  0.1712      0.374      0.458      0.647      -0.563       0.905\n",
            "loc[T.Lomas de Linda Vista]                         0.2822      0.512      0.551      0.582      -0.723       1.287\n",
            "loc[T.Lomas de Madrid]                             -0.0051      0.509     -0.010      0.992      -1.005       0.995\n",
            "loc[T.Lopez Portillo]                              -0.0963      0.520     -0.185      0.853      -1.117       0.925\n",
            "loc[T.Loreto]                                       1.0153      0.510      1.992      0.047       0.014       2.017\n",
            "loc[T.Los Angeles]                                 -0.0280      0.383     -0.073      0.942      -0.779       0.724\n",
            "loc[T.Los Cuatro Olivos]                            0.1659      0.417      0.398      0.691      -0.654       0.986\n",
            "loc[T.Los Igualados]                                0.5918      0.522      1.133      0.258      -0.434       1.618\n",
            "loc[T.Los Lagos]                                    1.4669      0.322      4.555      0.000       0.834       2.100\n",
            "loc[T.Los Portales]                                 0.6125      0.382      1.602      0.110      -0.139       1.364\n",
            "loc[T.Los Sabinos]                                  0.5681      0.383      1.484      0.138      -0.184       1.320\n",
            "loc[T.Lote Baldio]                                  0.6842      0.512      1.335      0.182      -0.322       1.691\n",
            "loc[T.Luis Encinas]                                 0.5321      0.416      1.280      0.201      -0.284       1.349\n",
            "loc[T.Mesa del Seri]                               -1.0710      0.393     -2.724      0.007      -1.843      -0.299\n",
            "loc[T.Mision]                                       0.0481      0.509      0.095      0.925      -0.951       1.048\n",
            "loc[T.Mision del Sol]                               0.6732      0.321      2.095      0.037       0.042       1.305\n",
            "loc[T.Modelo]                                       0.4139      0.326      1.270      0.205      -0.226       1.054\n",
            "loc[T.Montebello]                                   0.8376      0.383      2.188      0.029       0.086       1.590\n",
            "loc[T.Montecarlo]                                   0.2936      0.350      0.838      0.402      -0.394       0.982\n",
            "loc[T.Nueva Castilla]                               0.1484      0.510      0.291      0.771      -0.853       1.149\n",
            "loc[T.Nueva Galicia]                                0.7628      0.510      1.497      0.135      -0.238       1.764\n",
            "loc[T.Nuevo Hermosillo]                            -0.0638      0.512     -0.125      0.901      -1.069       0.942\n",
            "loc[T.Olivares]                                     0.4397      0.415      1.059      0.290      -0.376       1.256\n",
            "loc[T.Palo Fierro]                                 -0.0539      0.509     -0.106      0.916      -1.055       0.947\n",
            "loc[T.Palo Verde]                                  -0.3237      0.416     -0.778      0.437      -1.141       0.493\n",
            "loc[T.Parque Industrial]                            0.0313      0.510      0.061      0.951      -0.971       1.033\n",
            "loc[T.Pedregal de la Villa]                        -1.7580      0.522     -3.367      0.001      -2.784      -0.732\n",
            "loc[T.Periodista]                                   0.6001      0.349      1.720      0.086      -0.085       1.285\n",
            "loc[T.Pimas]                                        0.6286      0.510      1.233      0.218      -0.373       1.630\n",
            "loc[T.Pimentel]                                     0.5767      0.416      1.386      0.166      -0.241       1.394\n",
            "loc[T.Pitic]                                        0.8175      0.302      2.704      0.007       0.224       1.411\n",
            "loc[T.Prados del Centenario]                        0.6995      0.382      1.829      0.068      -0.052       1.451\n",
            "loc[T.Primero Hermosillo]                          -0.2580      0.510     -0.506      0.613      -1.260       0.744\n",
            "loc[T.Privadas del Bosque]                          0.6738      0.513      1.312      0.190      -0.335       1.682\n",
            "loc[T.Pueblo Alegre]                                0.1867      0.383      0.488      0.626      -0.565       0.939\n",
            "loc[T.Pueblo del Sol]                              -0.4361      0.510     -0.855      0.393      -1.438       0.565\n",
            "loc[T.Puerta Real]                                  0.0741      0.344      0.215      0.830      -0.602       0.751\n",
            "loc[T.Puerta Real 7a.Etapa Secc Dorada]             0.2863      0.362      0.791      0.429      -0.424       0.997\n",
            "loc[T.Puerta Real Residencial Secc III]             0.3440      0.346      0.995      0.320      -0.335       1.023\n",
            "loc[T.Puerta Real Seccion 1]                        0.0962      0.332      0.290      0.772      -0.556       0.749\n",
            "loc[T.Puertas Real Residencial Secc IV]             0.0955      0.353      0.271      0.787      -0.598       0.789\n",
            "loc[T.Rancho Grande]                               -0.1005      0.420     -0.239      0.811      -0.925       0.724\n",
            "loc[T.Raquet Club]                                  0.9289      0.380      2.442      0.015       0.182       1.676\n",
            "loc[T.Real de Quiroga]                              0.4825      0.324      1.491      0.137      -0.153       1.118\n",
            "loc[T.Real del Llano]                               0.8854      0.511      1.733      0.084      -0.118       1.889\n",
            "loc[T.Renacimiento]                                 0.1068      0.523      0.204      0.838      -0.921       1.134\n",
            "loc[T.Residencial Campo Grande]                     1.1847      0.340      3.487      0.001       0.517       1.852\n",
            "loc[T.Residencial La Rioja]                         0.9764      0.308      3.167      0.002       0.371       1.582\n",
            "loc[T.Residencial Los Santos]                       1.1578      0.347      3.336      0.001       0.476       1.840\n",
            "loc[T.Residencial Salvatierra]                      0.4699      0.512      0.919      0.359      -0.535       1.475\n",
            "loc[T.Residencial San Marcos Secc II]               0.3540      0.510      0.694      0.488      -0.648       1.356\n",
            "loc[T.Residencial de Anza]                          0.4614      0.417      1.107      0.269      -0.357       1.280\n",
            "loc[T.Sacramento]                                   0.8032      0.417      1.926      0.055      -0.016       1.622\n",
            "loc[T.Sahuaro]                                     -0.1321      0.416     -0.317      0.751      -0.950       0.686\n",
            "loc[T.San Angel]                                   -0.0431      0.511     -0.084      0.933      -1.047       0.961\n",
            "loc[T.San Benito]                                   0.4579      0.334      1.371      0.171      -0.198       1.114\n",
            "loc[T.San Bosco I y II Etapa]                       0.6700      0.527      1.271      0.204      -0.365       1.705\n",
            "loc[T.San Francisco]                                0.9764      0.511      1.910      0.057      -0.028       1.981\n",
            "loc[T.San Juan]                                    -0.0054      0.422     -0.013      0.990      -0.835       0.824\n",
            "loc[T.San Pedro El Saucito]                        -1.1383      0.510     -2.230      0.026      -2.141      -0.135\n",
            "loc[T.Santa Fe]                                     0.8554      0.362      2.361      0.019       0.144       1.567\n",
            "loc[T.Secc las Placitas]                           -0.3673      0.425     -0.865      0.387      -1.202       0.467\n",
            "loc[T.Sierra Vista]                                 1.6453      0.421      3.908      0.000       0.818       2.472\n",
            "loc[T.Sin Asignación En Nombre de Asentamiento]     0.6732      0.314      2.142      0.033       0.056       1.291\n",
            "loc[T.Solidaridad]                                 -0.5701      0.415     -1.373      0.170      -1.386       0.246\n",
            "loc[T.Solidaridad IV]                              -0.0917      0.416     -0.221      0.825      -0.908       0.725\n",
            "loc[T.Son.]                                         0.8339      0.300      2.781      0.006       0.245       1.423\n",
            "loc[T.Sonacer]                                      0.0865      0.526      0.164      0.869      -0.946       1.119\n",
            "loc[T.Unión de Colonos]                             0.1275      0.384      0.332      0.740      -0.627       0.882\n",
            "loc[T.Valle Bonito]                                 0.9536      0.382      2.499      0.013       0.204       1.703\n",
            "loc[T.Valle Grande]                                 0.6685      0.381      1.752      0.080      -0.081       1.418\n",
            "loc[T.Valle Santa Monica]                           0.9152      0.418      2.192      0.029       0.095       1.736\n",
            "loc[T.Valle Verde]                                  0.6244      0.349      1.791      0.074      -0.061       1.309\n",
            "loc[T.Valle de Agualurca]                           0.5066      0.519      0.976      0.330      -0.513       1.527\n",
            "loc[T.Villa Bonita Residencial]                     0.5478      0.322      1.701      0.089      -0.085       1.180\n",
            "loc[T.Villa Hermosa]                               -0.7159      0.415     -1.727      0.085      -1.530       0.099\n",
            "loc[T.Villa Merlot Residencial]                     0.4551      0.362      1.257      0.209      -0.256       1.166\n",
            "loc[T.Villa Satelite]                               0.3590      0.330      1.087      0.278      -0.290       1.008\n",
            "loc[T.Villa Sonora]                                 0.2748      0.511      0.538      0.591      -0.728       1.278\n",
            "loc[T.Villa de Parras]                              0.9441      0.361      2.619      0.009       0.236       1.653\n",
            "loc[T.Villa de Seris]                              -0.4597      0.512     -0.898      0.369      -1.465       0.546\n",
            "loc[T.Villa del Cortes]                             0.6293      0.514      1.224      0.221      -0.380       1.639\n",
            "loc[T.Villa del Palmar]                             0.2816      0.382      0.737      0.461      -0.469       1.032\n",
            "loc[T.Villa del Real]                               0.3944      0.420      0.940      0.348      -0.430       1.219\n",
            "loc[T.Villas Residencial]                           0.5124      0.417      1.228      0.220      -0.307       1.332\n",
            "loc[T.Villas del Mediterraneo]                      0.7925      0.416      1.904      0.058      -0.025       1.610\n",
            "loc[T.Villas del Sol]                               0.3171      0.512      0.619      0.536      -0.689       1.323\n",
            "loc[T.Villas del Sur]                               0.3148      0.511      0.616      0.538      -0.689       1.318\n",
            "loc[T.Virreyes]                                     0.2055      0.513      0.400      0.689      -0.803       1.214\n",
            "loc[T.Vista Real]                                  -0.1332      0.511     -0.261      0.794      -1.137       0.871\n",
            "loc[T.Y Griega]                                    -0.6779      0.520     -1.304      0.193      -1.699       0.343\n",
            "loc[T.Zamora]                                      -0.4180      0.510     -0.819      0.413      -1.420       0.584\n",
            "bed                                                -0.0062      0.026     -0.237      0.813      -0.057       0.045\n",
            "bath                                                0.1927      0.030      6.449      0.000       0.134       0.251\n",
            "logarea                                             0.6377      0.049     13.104      0.000       0.542       0.733\n",
            "remate                                             -0.5714      0.062     -9.266      0.000      -0.693      -0.450\n",
            "alberca                                             0.1408      0.047      3.000      0.003       0.049       0.233\n",
            "depto                                               0.0512      0.111      0.460      0.646      -0.167       0.270\n",
            "==============================================================================\n",
            "Omnibus:                      183.910   Durbin-Watson:                   1.802\n",
            "Prob(Omnibus):                  0.000   Jarque-Bera (JB):             1332.786\n",
            "Skew:                          -1.003   Prob(JB):                    3.88e-290\n",
            "Kurtosis:                       9.553   Cond. No.                     1.67e+03\n",
            "==============================================================================\n",
            "\n",
            "Notes:\n",
            "[1] Standard Errors assume that the covariance matrix of the errors is correctly specified.\n",
            "[2] The condition number is large, 1.67e+03. This might indicate that there are\n",
            "strong multicollinearity or other numerical problems.\n"
          ]
        },
        {
          "output_type": "display_data",
          "data": {
            "text/plain": [
              "<Figure size 1008x576 with 4 Axes>"
            ],
            "image/png": "[encoded data removed]"
          },
          "metadata": {
            "needs_background": "light"
          }
        }
      ],
      "source": [
        "model = ols('logprice ~ bed+bath+logarea+remate+alberca+depto+loc',\n",
        "                   data=df).fit()\n",
        "\n",
        "#linear_model = ols('logprice ~ logbed+logbed2+review_scores_value+review2+number_of_reviews+room_type+accommodates+neighbourhood_cleansed+latitude+latitude2+longitude+longitude2',data=datos).fit()\n",
        "\n",
        "# presentamos el resumen del modelo\n",
        "print(model.summary())\n",
        "  \n",
        "# modificamos tamaño de imagenes\n",
        "fig = plt.figure(figsize=(14, 8))\n",
        "  \n",
        "# creamos plots de regresion\n",
        "fig = sm.graphics.plot_regress_exog(model,\n",
        "                                    'logarea',\n",
        "                                    fig=fig)"
      ]
    },
    {
      "cell_type": "code",
      "execution_count": null,
      "metadata": {
        "colab": {
          "base_uri": "https://localhost:8080/"
        },
        "id": "ka3Bomwc8I1c",
        "outputId": "a564d3fe-0bce-4638-e561-e47f8b744c27"
      },
      "outputs": [
        {
          "data": {
            "text/plain": [
              "1.1051709180756477"
            ]
          },
          "execution_count": 14,
          "metadata": {},
          "output_type": "execute_result"
        }
      ],
      "source": [
        "import numpy as np\n",
        "np.exp(.1)"
      ]
    },
    {
      "cell_type": "code",
      "source": [
        "bano=3\n",
        "log_area=np.log(333)"
      ],
      "metadata": {
        "id": "cnVJLTsFWqu7"
      },
      "execution_count": null,
      "outputs": []
    },
    {
      "cell_type": "code",
      "source": [
        "log_area"
      ],
      "metadata": {
        "colab": {
          "base_uri": "https://localhost:8080/"
        },
        "id": "P79qJuPfW7jQ",
        "outputId": "f5cb13c5-1fce-4139-f3e0-6be250be5292"
      },
      "execution_count": null,
      "outputs": [
        {
          "output_type": "execute_result",
          "data": {
            "text/plain": [
              "5.3230099791384085"
            ]
          },
          "metadata": {},
          "execution_count": 33
        }
      ]
    },
    {
      "cell_type": "code",
      "source": [
        "np.exp(10.4075 + 0.6 + 0.1927*bano +  0.6*log_area)"
      ],
      "metadata": {
        "colab": {
          "base_uri": "https://localhost:8080/"
        },
        "id": "rNL-BjaFWQXX",
        "outputId": "bb1bdc47-6067-419c-9c68-78259537e3a9"
      },
      "execution_count": null,
      "outputs": [
        {
          "output_type": "execute_result",
          "data": {
            "text/plain": [
              "3507750.455067532"
            ]
          },
          "metadata": {},
          "execution_count": 38
        }
      ]
    }
  ],
  "metadata": {
    "colab": {
      "provenance": [],
      "authorship_tag": "ABX9TyNYxluvyXdcx0M6B7nNToOI",
      "include_colab_link": true
    },
    "kernelspec": {
      "display_name": "Python 3",
      "name": "python3"
    },
    "language_info": {
      "name": "python"
    }
  },
  "nbformat": 4,
  "nbformat_minor": 0
}